{
 "cells": [
  {
   "cell_type": "code",
   "execution_count": null,
   "metadata": {
    "id": "1nxQ05wCU-gb"
   },
   "outputs": [],
   "source": [
    "import tensorflow as tf\n",
    "print(tf.__version__)\n",
    "import numpy as np\n",
    "import math as mt\n",
    "import matplotlib.pyplot as plt"
   ]
  },
  {
   "cell_type": "code",
   "execution_count": null,
   "metadata": {},
   "outputs": [],
   "source": [
    "a1=45*np.sqrt(5)\n",
    "a2=24*np.sqrt(806115)\n",
    "a3=1560*np.sqrt(49407661)\n",
    "a4=720*np.sqrt(234602520551435)\n",
    "a5=65520*np.sqrt(float(577134754173907))\n",
    "a6=10080*np.sqrt(float(683295409767530975347))#"
   ]
  },
  {
   "cell_type": "code",
   "execution_count": null,
   "metadata": {},
   "outputs": [],
   "source": [
    "def basis_fct(k,t):\n",
    "    if k==1:\n",
    "        return 1+0*t\n",
    "    if k==2:\n",
    "        return -1+np.exp(-t)\n",
    "    if k==3:\n",
    "        return np.exp(-t)*t\n",
    "    if k==4:\n",
    "        return np.exp(-t)*(1/2)*(-2*t+np.power(t,2))\n",
    "    if k==5:\n",
    "        return np.exp(-t)*(-6*t-36*np.power(t,2)+np.power(t,3))/a1\n",
    "    if k==6:\n",
    "        return np.exp(-t)*(-24*t-192*np.power(t,2)-1440*np.power(t,3)+np.power(t,4))/a2\n",
    "    if k==7:\n",
    "        return np.exp(-t)*(-120*t-1200*np.power(t,2)-10800*np.power(t,3)+100800*np.power(t,4)+np.power(t,5))/a3\n",
    "    if k==8:\n",
    "        return np.exp(-t)*(-720*t-8640*np.power(t,2)-90720*np.power(t,3)-967680*np.power(t,4)-10886400*np.power(t,5)+np.power(t,6))/a4\n",
    "    if k==9:\n",
    "        return np.exp(-t)*(-5040*t-70560*np.power(t,2)-846720*np.power(t,3)-10160640*np.power(t,4)-127008000*np.power(t,5)-127008000*np.power(t,6)+np.power(t,7))/a5\n",
    "    if k==10:\n",
    "        return np.exp(-t)*(-40320*t-645120*np.power(t,2)-8709120*np.power(t,3)-116121600*np.power(t,4)-1596672000*np.power(t,5)-1596672000*np.power(t,6)-1596671999*np.power(t,7)+np.power(t,8))/a6\n",
    "    else:\n",
    "        return 0"
   ]
  },
  {
   "cell_type": "markdown",
   "metadata": {
    "id": "In8l4okch-_y"
   },
   "source": [
    "Now calculate the outputs..."
   ]
  },
  {
   "cell_type": "code",
   "execution_count": null,
   "metadata": {
    "id": "fVYXVM2vFVCA"
   },
   "outputs": [],
   "source": [
    "StartingValues=np.load('startingvaluesMultiVariatePoisson.npy')\n",
    "TrainingSize=StartingValues.shape[0]\n",
    "print(TrainingSize)\n",
    "print(StartingValues)"
   ]
  },
  {
   "cell_type": "code",
   "execution_count": null,
   "metadata": {
    "colab": {
     "base_uri": "https://localhost:8080/",
     "height": 547
    },
    "id": "4xXjzeJLwNEh",
    "outputId": "5a6c2356-f79e-4083-8a04-57c5b881f443"
   },
   "outputs": [],
   "source": [
    "def evalCurve0(x,tau):\n",
    "    xSize=x.size\n",
    "    Y0=np.zeros(tau.size)\n",
    "    for k in range(1,xSize+1,1):\n",
    "        Y0+=x[k-1]*basis_fct(k,tau)\n",
    "    return np.exp(Y0)\n",
    "\n",
    "\n",
    "# Simulate one Brownian motion from 0 to T. We discretize daily \n",
    "T=1/12#one month simulation time horizon \n",
    "L=30#Discretization of BM\n",
    "s = np.arange(0.0, 1/12, 1/(12*L))\n",
    "Tminuss=T-s\n",
    "print(Tminuss)\n",
    "deltaS=1/(12*L)\n",
    "Ssize=s.size\n",
    "\n",
    "# [x1,..,x10] starting value x1e1 +...+ x10e10\n",
    "def evalCurve(x,BMInc,tau):\n",
    "    sqrtdeltaS=mt.sqrt(deltaS)\n",
    "    xSize=x.size\n",
    "    TauSize=tau.size\n",
    "    Y0=np.zeros(TauSize)\n",
    "    drift=np.zeros(TauSize)\n",
    "    noise=np.zeros(TauSize)\n",
    "    for k in range(1,xSize+1,1):\n",
    "        Y0+=x[k-1]*basis_fct(k,tau+T)\n",
    "        for j in range(0,L,1):\n",
    "            tmp=basis_fct(k,tau+Tminuss[j])\n",
    "            drift+=tmp*tmp*deltaS\n",
    "            noise+=tmp*BMInc[k-1,j]*sqrtdeltaS\n",
    "        #tmp+=x[k]*np.power(t+T,k-1)*mt.exp(-(t+T))\n",
    "    return np.exp(Y0-(1/2)*drift+noise)#mt.exp(-(1/2)*T+mt.sqrt(T)*BMInc +tmp)\n",
    "\n",
    "\n",
    "discretizationDimension=10#either 10 or 20\n",
    "#discretize only the interval [0,1/12] as everything outside of this interval is irrelevant for the option we price\n",
    "xGrid=np.linspace(0,1/12,discretizationDimension)\n",
    "\n",
    "xValues=np.zeros([TrainingSize,discretizationDimension])\n",
    "\n",
    "for sample in range(0,TrainingSize,1):\n",
    "    xValues[sample,:]=evalCurve0(StartingValues[sample,:],xGrid)\n"
   ]
  },
  {
   "cell_type": "code",
   "execution_count": null,
   "metadata": {},
   "outputs": [],
   "source": [
    "print(xValues)\n",
    "np.save('DiscretizedCurve10TrainingsetMultivariatePoisson',xValues)"
   ]
  },
  {
   "cell_type": "code",
   "execution_count": null,
   "metadata": {},
   "outputs": [],
   "source": [
    "startingValuesTestset=np.zeros([960,10])\n",
    "MCprices=np.zeros([960])\n",
    "for k in range(0,15,1):\n",
    "    tmpstring=\"% s\" % k\n",
    "    filename1=\"startingvaluesMultiVariatePoissonKoefficientTestset100000Sim\"+tmpstring+\".npy\"\n",
    "    filename2=\"outputsMultiVariatePoissonKoefficientTestset100000Sim\"+tmpstring+\".npy\"\n",
    "    tmp1=np.load(filename1)\n",
    "    tmp2=np.load(filename2)\n",
    "    startingValuesTestset[k*64:(k+1)*64]=tmp1\n",
    "    MCprices[k*64:(k+1)*64]=tmp2 "
   ]
  },
  {
   "cell_type": "code",
   "execution_count": null,
   "metadata": {},
   "outputs": [],
   "source": [
    "testsize=MCprices.size\n",
    "xValues=np.zeros([testsize,discretizationDimension])\n",
    "\n",
    "for sample in range(0,testsize,1):\n",
    "    xValues[sample,:]=evalCurve0(startingValuesTestset[sample,:],xGrid)\n",
    "\n"
   ]
  },
  {
   "cell_type": "code",
   "execution_count": null,
   "metadata": {},
   "outputs": [],
   "source": [
    "print(xValues)"
   ]
  },
  {
   "cell_type": "code",
   "execution_count": null,
   "metadata": {},
   "outputs": [],
   "source": [
    "np.save('DiscretizedCurve10TestsetMultivariatePoisson',xValues)#10 or 20"
   ]
  },
  {
   "cell_type": "code",
   "execution_count": null,
   "metadata": {},
   "outputs": [],
   "source": [
    "np.save('outputsMultiVariatePoissonTestset100000Simulations',MCprices)"
   ]
  },
  {
   "cell_type": "code",
   "execution_count": null,
   "metadata": {},
   "outputs": [],
   "source": []
  }
 ],
 "metadata": {
  "colab": {
   "collapsed_sections": [],
   "name": "ForwardPricingNN.ipynb",
   "provenance": []
  },
  "kernelspec": {
   "display_name": "Python 3 (ipykernel)",
   "language": "python",
   "name": "python3"
  },
  "language_info": {
   "codemirror_mode": {
    "name": "ipython",
    "version": 3
   },
   "file_extension": ".py",
   "mimetype": "text/x-python",
   "name": "python",
   "nbconvert_exporter": "python",
   "pygments_lexer": "ipython3",
   "version": "3.9.7"
  }
 },
 "nbformat": 4,
 "nbformat_minor": 1
}
