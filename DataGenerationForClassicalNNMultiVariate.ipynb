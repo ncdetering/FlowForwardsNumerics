{
 "cells": [
  {
   "cell_type": "code",
   "execution_count": 13,
   "metadata": {
    "id": "1nxQ05wCU-gb"
   },
   "outputs": [
    {
     "name": "stdout",
     "output_type": "stream",
     "text": [
      "2.6.0\n"
     ]
    }
   ],
   "source": [
    "import tensorflow as tf\n",
    "print(tf.__version__)\n",
    "import numpy as np\n",
    "import math as mt\n",
    "import matplotlib.pyplot as plt"
   ]
  },
  {
   "cell_type": "code",
   "execution_count": 14,
   "metadata": {},
   "outputs": [],
   "source": [
    "a1=45*np.sqrt(5)\n",
    "a2=24*np.sqrt(806115)\n",
    "a3=1560*np.sqrt(49407661)\n"
   ]
  },
  {
   "cell_type": "code",
   "execution_count": 15,
   "metadata": {},
   "outputs": [],
   "source": []
  },
  {
   "cell_type": "code",
   "execution_count": 16,
   "metadata": {},
   "outputs": [],
   "source": [
    "def basis_fct(k,t):\n",
    "    if k==1:\n",
    "        return 1+0*t\n",
    "    if k==2:\n",
    "        return -1+np.exp(-t)\n",
    "    if k==3:\n",
    "        return np.exp(-t)*t\n",
    "    if k==4:\n",
    "        return (1/2)*(-2*np.exp(-t)*t+np.exp(-t)*np.power(t,2))\n",
    "    if k==5:\n",
    "        return (-6*np.exp(-t)*t-36*np.exp(-t)*np.power(t,2)+np.exp(-t)*np.power(t,3))/a1\n",
    "    if k==6:\n",
    "        return (-24*np.exp(-t)*t-192*np.exp(-t)*np.power(t,2)-1440*np.exp(-t)*np.power(t,3)+np.exp(-t)*np.power(t,4))/a2\n",
    "    if k==7:\n",
    "        return (-120*np.exp(-t)*t-1200*np.exp(-t)*np.power(t,2)-10800*np.exp(-t)*np.power(t,3)+100800*np.exp(-t)*np.power(t,4)+np.exp(-t)*np.power(t,5))/a3\n",
    "    else:\n",
    "        return 0"
   ]
  },
  {
   "cell_type": "code",
   "execution_count": 17,
   "metadata": {},
   "outputs": [
    {
     "data": {
      "image/png": "[encoded data removed]",
      "text/plain": [
       "<Figure size 432x288 with 1 Axes>"
      ]
     },
     "metadata": {
      "needs_background": "light"
     },
     "output_type": "display_data"
    }
   ],
   "source": [
    "# Plot our basis functions\n",
    "t = np.arange(0.0, 5.0, 0.01)\n",
    "e1 =basis_fct(1,t)\n",
    "e2 =basis_fct(2,t)\n",
    "e3 =basis_fct(3,t)\n",
    "e4 =basis_fct(4,t)\n",
    "e5 =basis_fct(5,t)\n",
    "e6 =basis_fct(6,t)\n",
    "e7 =basis_fct(7,t)\n",
    "\n",
    "fig=plt.figure()\n",
    "ax=plt.axes()\n",
    "\n",
    "ax.set(xlabel='time to maturity', ylabel='inst. forward rate',\n",
    "       title='First 7 orthonormal basis functions')\n",
    "ax.plot(t,e1)\n",
    "ax.plot(t,e2)\n",
    "ax.plot(t,e3)\n",
    "ax.plot(t,e4)\n",
    "ax.plot(t,e5)\n",
    "ax.plot(t,e6)\n",
    "ax.plot(t,e7)\n",
    "\n",
    "plt.show()"
   ]
  },
  {
   "cell_type": "markdown",
   "metadata": {
    "id": "In8l4okch-_y"
   },
   "source": [
    "Now calculate the outputs..."
   ]
  },
  {
   "cell_type": "code",
   "execution_count": 18,
   "metadata": {
    "id": "fVYXVM2vFVCA"
   },
   "outputs": [
    {
     "name": "stdout",
     "output_type": "stream",
     "text": [
      "10000000\n",
      "[[ 0.36999885  0.06088184 -0.27843507 ...  0.05552605  0.27597337\n",
      "   0.46055534]\n",
      " [ 0.41627211 -0.32638021  0.30962175 ...  0.10310086 -0.32621497\n",
      "  -0.0346609 ]\n",
      " [ 0.45123417  0.28628765 -0.34419823 ...  0.17506217 -0.22866537\n",
      "   0.30101809]\n",
      " ...\n",
      " [ 0.2657931  -0.06870523 -0.13819409 ...  0.24828656  0.03992342\n",
      "   0.29094948]\n",
      " [-0.12807186  0.42792914  0.27162283 ... -0.05987048 -0.47285047\n",
      "  -0.04101031]\n",
      " [ 0.38745462  0.36525259 -0.33679535 ... -0.19790725 -0.3148698\n",
      "  -0.31740994]]\n"
     ]
    }
   ],
   "source": [
    "StartingValues=np.load('startingvaluesMultiVariate.npy')\n",
    "TrainingSize=StartingValues.shape[0]\n",
    "print(TrainingSize)\n",
    "print(StartingValues)"
   ]
  },
  {
   "cell_type": "code",
   "execution_count": 19,
   "metadata": {
    "colab": {
     "base_uri": "https://localhost:8080/",
     "height": 547
    },
    "id": "4xXjzeJLwNEh",
    "outputId": "5a6c2356-f79e-4083-8a04-57c5b881f443"
   },
   "outputs": [
    {
     "name": "stdout",
     "output_type": "stream",
     "text": [
      "[0.08333333 0.08055556 0.07777778 0.075      0.07222222 0.06944444\n",
      " 0.06666667 0.06388889 0.06111111 0.05833333 0.05555556 0.05277778\n",
      " 0.05       0.04722222 0.04444444 0.04166667 0.03888889 0.03611111\n",
      " 0.03333333 0.03055556 0.02777778 0.025      0.02222222 0.01944444\n",
      " 0.01666667 0.01388889 0.01111111 0.00833333 0.00555556 0.00277778]\n"
     ]
    }
   ],
   "source": [
    "def evalCurve0(x,tau):\n",
    "    xSize=x.size\n",
    "    Y0=np.zeros(tau.size)\n",
    "    for k in range(1,xSize+1,1):\n",
    "        Y0+=x[k-1]*basis_fct(k,tau)\n",
    "    return np.exp(Y0)\n",
    "\n",
    "\n",
    "# Simulate one Brownian motion from 0 to T. We discretize daily \n",
    "T=1/12#one month simulation time horizon \n",
    "L=30#Discretization of BM\n",
    "s = np.arange(0.0, 1/12, 1/(12*L))\n",
    "Tminuss=T-s\n",
    "print(Tminuss)\n",
    "deltaS=1/(12*L)\n",
    "Ssize=s.size\n",
    "\n",
    "# [x1,..,x10] starting value x1e1 +...+ x10e10\n",
    "def evalCurve(x,BMInc,tau):\n",
    "    sqrtdeltaS=mt.sqrt(deltaS)\n",
    "    xSize=x.size\n",
    "    TauSize=tau.size\n",
    "    Y0=np.zeros(TauSize)\n",
    "    drift=np.zeros(TauSize)\n",
    "    noise=np.zeros(TauSize)\n",
    "    for k in range(1,xSize+1,1):\n",
    "        Y0+=x[k-1]*basis_fct(k,tau+T)\n",
    "        for j in range(0,L,1):\n",
    "            tmp=basis_fct(k,tau+Tminuss[j])\n",
    "            drift+=tmp*tmp*deltaS\n",
    "            noise+=tmp*BMInc[k-1,j]*sqrtdeltaS\n",
    "        #tmp+=x[k]*np.power(t+T,k-1)*mt.exp(-(t+T))\n",
    "    return np.exp(Y0-(1/2)*drift+noise)#mt.exp(-(1/2)*T+mt.sqrt(T)*BMInc +tmp)\n",
    "\n",
    "\n",
    "discretizationDimension=10#either 10 or 20\n",
    "#discretize only the interval [0,1/12] as everything outside of this interval is irrelevant for the option we price\n",
    "xGrid=np.linspace(0,1/12,discretizationDimension)\n",
    "\n",
    "xValues=np.zeros([TrainingSize,discretizationDimension])\n",
    "\n",
    "for sample in range(0,TrainingSize,1):\n",
    "    xValues[sample,:]=evalCurve0(StartingValues[sample,:],xGrid)\n"
   ]
  },
  {
   "cell_type": "code",
   "execution_count": 20,
   "metadata": {},
   "outputs": [
    {
     "name": "stdout",
     "output_type": "stream",
     "text": [
      "[[1.44773295 1.4458744  1.44401456 ... 1.43470962 1.43285008 1.43099186]\n",
      " [1.51629841 1.52836335 1.54030305 ... 1.5980962  1.6092695  1.62031326]\n",
      " [1.57024895 1.55602106 1.54217329 ... 1.47825011 1.46645687 1.45497186]\n",
      " ...\n",
      " [1.30446514 1.30083284 1.29728945 ... 1.28084271 1.27779534 1.27482479]\n",
      " [0.87979016 0.88237104 0.88484809 ... 0.89572345 0.89760635 0.89939522]\n",
      " [1.47322609 1.46696242 1.46078505 ... 1.43115077 1.42546627 1.4198599 ]]\n"
     ]
    }
   ],
   "source": [
    "print(xValues)\n",
    "np.save('DiscretizedCurve10TrainingsetMultivariate',xValues)"
   ]
  },
  {
   "cell_type": "code",
   "execution_count": 21,
   "metadata": {},
   "outputs": [],
   "source": [
    "startingValuesTestset=np.zeros([9600,7])\n",
    "MCprices=np.zeros([9600])\n",
    "for k in range(0,30,1):\n",
    "    tmpstring=\"% s\" % k\n",
    "    filename1=\"startingvaluesMultiVariateTestset100000Sim\"+tmpstring+\".npy\"\n",
    "    filename2=\"outputsMultiVariateTestset100000Sim\"+tmpstring+\".npy\"\n",
    "    tmp1=np.load(filename1)\n",
    "    tmp2=np.load(filename2)\n",
    "    startingValuesTestset[k*320:(k+1)*320]=tmp1\n",
    "    MCprices[k*320:(k+1)*320]=tmp2\n",
    "\n",
    "\n"
   ]
  },
  {
   "cell_type": "code",
   "execution_count": 22,
   "metadata": {},
   "outputs": [],
   "source": [
    "testsize=MCprices.size\n",
    "xValues=np.zeros([testsize,discretizationDimension])\n",
    "\n",
    "for sample in range(0,testsize,1):\n",
    "    xValues[sample,:]=evalCurve0(startingValuesTestset[sample,:],xGrid)\n",
    "\n"
   ]
  },
  {
   "cell_type": "code",
   "execution_count": 23,
   "metadata": {},
   "outputs": [
    {
     "name": "stdout",
     "output_type": "stream",
     "text": [
      "[[1.53911892 1.54385504 1.54851292 ... 1.57066924 1.57488198 1.57902457]\n",
      " [0.73532335 0.7341114  0.73296006 ... 0.72805959 0.7272407  0.72647238]\n",
      " [0.967596   0.96641899 0.96518933 ... 0.95831233 0.956803   0.95525283]\n",
      " ...\n",
      " [0.93882147 0.9418031  0.94476945 ... 0.95937871 0.96225737 0.96512205]\n",
      " [0.75580757 0.76133538 0.76676908 ... 0.79251737 0.79738216 0.80215198]\n",
      " [1.56050251 1.56165453 1.56267937 ... 1.56597904 1.5662906  1.56649151]]\n"
     ]
    }
   ],
   "source": [
    "print(xValues)"
   ]
  },
  {
   "cell_type": "code",
   "execution_count": 24,
   "metadata": {},
   "outputs": [],
   "source": [
    "np.save('DiscretizedCurve10TestsetMultivariate',xValues)#10 or 20"
   ]
  },
  {
   "cell_type": "code",
   "execution_count": 25,
   "metadata": {},
   "outputs": [],
   "source": [
    "np.save('outputsMultiVariateTestset100000Simulations',MCprices)"
   ]
  },
  {
   "cell_type": "code",
   "execution_count": null,
   "metadata": {},
   "outputs": [],
   "source": []
  }
 ],
 "metadata": {
  "colab": {
   "collapsed_sections": [],
   "name": "ForwardPricingNN.ipynb",
   "provenance": []
  },
  "kernelspec": {
   "display_name": "Python 3 (ipykernel)",
   "language": "python",
   "name": "python3"
  },
  "language_info": {
   "codemirror_mode": {
    "name": "ipython",
    "version": 3
   },
   "file_extension": ".py",
   "mimetype": "text/x-python",
   "name": "python",
   "nbconvert_exporter": "python",
   "pygments_lexer": "ipython3",
   "version": "3.9.7"
  }
 },
 "nbformat": 4,
 "nbformat_minor": 1
}
